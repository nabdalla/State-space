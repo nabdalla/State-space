{
 "cells": [
  {
   "cell_type": "code",
   "execution_count": 1,
   "metadata": {},
   "outputs": [
    {
     "name": "stderr",
     "output_type": "stream",
     "text": [
      "\u001b[1m\u001b[34mINFO: Nothing to be done\n",
      "\u001b[0m\u001b[1m\u001b[34mINFO: METADATA is out-of-date — you may not have the latest version of Rmath\n",
      "\u001b[0m\u001b[1m\u001b[34mINFO: Use `Pkg.update()` to get the latest versions of your packages\n",
      "\u001b[0m\u001b[1m\u001b[34mINFO: Building Rmath\n",
      "\u001b[0m\u001b[1m\u001b[34mINFO: Nothing to be done\n",
      "\u001b[0m\u001b[1m\u001b[34mINFO: METADATA is out-of-date — you may not have the latest version of Distributions\n",
      "\u001b[0m\u001b[1m\u001b[34mINFO: Use `Pkg.update()` to get the latest versions of your packages\n",
      "\u001b[0m\u001b[1m\u001b[34mINFO: Nothing to be done\n",
      "\u001b[0m\u001b[1m\u001b[34mINFO: METADATA is out-of-date — you may not have the latest version of RCall\n",
      "\u001b[0m\u001b[1m\u001b[34mINFO: Use `Pkg.update()` to get the latest versions of your packages\n",
      "\u001b[0m\u001b[1m\u001b[34mINFO: Recompiling stale cache file /Users/n_a_abdallah/.julia/lib/v0.5/Distributions.ji for module Distributions.\n",
      "\u001b[0m\u001b[1m\u001b[34mINFO: Nothing to be done\n",
      "\u001b[0m\u001b[1m\u001b[34mINFO: METADATA is out-of-date — you may not have the latest version of Requests\n",
      "\u001b[0m\u001b[1m\u001b[34mINFO: Use `Pkg.update()` to get the latest versions of your packages\n",
      "\u001b[0m\u001b[1m\u001b[34mINFO: Nothing to be done\n",
      "\u001b[0m\u001b[1m\u001b[34mINFO: METADATA is out-of-date — you may not have the latest version of DataFrames\n",
      "\u001b[0m\u001b[1m\u001b[34mINFO: Use `Pkg.update()` to get the latest versions of your packages\n",
      "\u001b[0m\u001b[1m\u001b[34mINFO: Recompiling stale cache file /Users/n_a_abdallah/.julia/lib/v0.5/Requests.ji for module Requests.\n",
      "\u001b[0m\u001b[1m\u001b[34mINFO: Recompiling stale cache file /Users/n_a_abdallah/.julia/lib/v0.5/GZip.ji for module GZip.\n",
      "\u001b[0m\u001b[1m\u001b[34mINFO: Recompiling stale cache file /Users/n_a_abdallah/.julia/lib/v0.5/DataFrames.ji for module DataFrames.\n",
      "\u001b[0mWARNING: Method definition describe(AbstractArray) in module StatsBase at /Users/n_a_abdallah/.julia/v0.5/StatsBase/src/scalarstats.jl:573 overwritten in module DataFrames at /Users/n_a_abdallah/.julia/v0.5/DataFrames/src/abstractdataframe/abstractdataframe.jl:407.\n",
      "WARNING: Method definition describe(AbstractArray) in module StatsBase at /Users/n_a_abdallah/.julia/v0.5/StatsBase/src/scalarstats.jl:573 overwritten in module DataFrames at /Users/n_a_abdallah/.julia/v0.5/DataFrames/src/abstractdataframe/abstractdataframe.jl:407.\n"
     ]
    }
   ],
   "source": [
    "Pkg.add(\"Rmath\")\n",
    "Pkg.build(\"Rmath\")\n",
    "Pkg.add(\"Distributions\")\n",
    "Pkg.add(\"RCall\")\n",
    "using Distributions\n",
    "Pkg.add(\"Requests\")\n",
    "Pkg.add(\"DataFrames\")\n",
    "using Requests\n",
    "using DataFrames"
   ]
  },
  {
   "cell_type": "code",
   "execution_count": 2,
   "metadata": {},
   "outputs": [
    {
     "data": {
      "text/plain": [
       "100-element Array{Float64,1}:\n",
       " 0.595134\n",
       " 2.69018 \n",
       " 2.70727 \n",
       " 2.60177 \n",
       " 2.2714  \n",
       " 2.33271 \n",
       " 3.54664 \n",
       " 3.03445 \n",
       " 3.23414 \n",
       " 3.03303 \n",
       " 2.91649 \n",
       " 2.60765 \n",
       " 2.56163 \n",
       " ⋮       \n",
       " 2.79695 \n",
       " 3.34858 \n",
       " 3.91116 \n",
       " 3.34764 \n",
       " 3.18102 \n",
       " 3.62688 \n",
       " 3.08842 \n",
       " 2.29604 \n",
       " 4.22982 \n",
       " 3.23859 \n",
       " 3.36046 \n",
       " 2.88812 "
      ]
     },
     "execution_count": 2,
     "metadata": {},
     "output_type": "execute_result"
    }
   ],
   "source": [
    "logyt=rand(Normal(),100)\n",
    "n=100\n",
    "Qprime=13.8\n",
    "Gprime=351.54\n",
    "V=100\n",
    "sigma=0.5\n",
    "aomega=2\n",
    "bomega=1\n",
    "kl=0.1\n",
    "wt=rand(Gamma(aomega,bomega),n)\n",
    "\n",
    "c=zeros(n)\n",
    "for i in 1:(n-1)\n",
    "  c[1]=1\n",
    "  c[i+1]=(1-(Qprime+kl*V)/V)*c[i]+Gprime/V+wt[i+1]\n",
    "end\n",
    "srand(123)\n",
    "vt=rand(Normal(0,sigma),n)\n",
    "logyt=log(c)+(vt)"
   ]
  },
  {
   "cell_type": "code",
   "execution_count": 7,
   "metadata": {},
   "outputs": [
    {
     "data": {
      "text/plain": [
       "100-element Array{Float64,1}:\n",
       "  0.595134\n",
       "  8.95088 \n",
       " 10.9305  \n",
       " 11.8073  \n",
       " 11.6316  \n",
       " 11.5684  \n",
       " 15.3165  \n",
       " 16.3179  \n",
       " 17.3271  \n",
       " 17.5153  \n",
       " 17.1264  \n",
       " 16.0806  \n",
       " 15.6001  \n",
       "  ⋮       \n",
       " 19.5569  \n",
       " 19.6528  \n",
       " 21.472   \n",
       " 21.1713  \n",
       " 20.5985  \n",
       " 21.0956  \n",
       " 20.3086  \n",
       " 17.9307  \n",
       " 20.8079  \n",
       " 20.4972  \n",
       " 20.4572  \n",
       " 19.5056  "
      ]
     },
     "execution_count": 7,
     "metadata": {},
     "output_type": "execute_result"
    }
   ],
   "source": [
    "function pf(nparticles,logyt, Qprime, Gprime, kl,aomega,bomega,sigma)\n",
    "nparti=nparticles\n",
    "cpartiold=zeros(nparti)\n",
    " cpartinew=zeros(nparti)\n",
    " wparti=zeros(nparti)\n",
    "wpartin=zeros(nparti)\n",
    "cpartires=zeros(nparti)\n",
    "wpartires=zeros(nparti)\n",
    "cestsir=zeros(100)\n",
    "stdsir=zeros(100)\n",
    "phat=zeros(100)\n",
    "phat1=zeros(100)\n",
    "mat=zeros(100)\n",
    "\n",
    "\n",
    "nparti1=1/nparti\n",
    "#distribution initial time\n",
    "    cestsir[1]=logyt[1]\n",
    "    for i in 1:nparti\n",
    "          cpartiold[i]=exp(logyt[1])+rand(Gamma(1,2))\n",
    "        end\n",
    "      for j in 1:(n-1)\n",
    "          for i in 1:nparti\n",
    "    #prediction\n",
    "            cpartinew[i]=(1-(Qprime+kl)/V)*cpartiold[i]+rand(Gamma(aomega,bomega))\n",
    "    #weights using likelihood\n",
    "            wparti[i]=exp(-((log(cpartinew[i])-logyt[j+1])/sigma)^2)\n",
    "            end\n",
    "      wtotal=sum(wparti)\n",
    "      wpartin=wparti/wtotal\n",
    "      phat[j]=(wtotal/nparti)\n",
    "      #phat1=(phat1,phat)\n",
    "\n",
    "  #update\n",
    "      #cpartiw=cpartinew*wpartin\n",
    "  #mean at time j+1\n",
    "  #cestpf[j+1]<-cpartinew*wparti\n",
    "  #resample\n",
    "      cresa=zeros(nparti)\n",
    "      uresa=zeros(nparti)\n",
    "  #cumulative sum of weights\n",
    "      cresa[1]=wpartin[1]\n",
    "      for i in 2:nparti\n",
    "        cresa[i]=cresa[i-1]+wpartin[i]\n",
    "            end\n",
    "      iresa=1\n",
    "      uresa[1]=rand(Uniform(0,1))*nparti1\n",
    "      for k in 1:nparti\n",
    "        uresa[k]=uresa[1]+nparti1*(k-1)\n",
    "        while uresa[k]>cresa[iresa]\n",
    "          iresa=iresa+1\n",
    "                end\n",
    "        cpartires[k]=cpartinew[iresa]\n",
    "        wpartires[k]=nparti1\n",
    "                end\n",
    "      cestsir[j+1]=mean(cpartires)\n",
    "      stdsir[j+1]=sqrt(var(cpartires))\n",
    "      cpartiold=cpartires\n",
    "  #end of resampling\n",
    "  #cpartiold<-cpartinew\n",
    "    mat=cestsir\n",
    "                    end\n",
    "    return mat,phat\n",
    "    end\n",
    "V=100\n",
    "@elapsed pzone1=pf(200,logyt,Qprime,Gprime,kl,aomega,bomega,sigma)\n",
    "pzone1[1]"
   ]
  },
  {
   "cell_type": "code",
   "execution_count": 54,
   "metadata": {},
   "outputs": [
    {
     "name": "stderr",
     "output_type": "stream",
     "text": [
      "WARNING: Method definition pfmcmc1(Any, Any, Any, Any) in module Main at In[53]:8 overwritten at In[54]:8.\n"
     ]
    },
    {
     "data": {
      "text/plain": [
       "pfmcmc1 (generic function with 1 method)"
      ]
     },
     "execution_count": 54,
     "metadata": {},
     "output_type": "execute_result"
    }
   ],
   "source": [
    "niters=1000\n",
    "tune=0.01\n",
    "thin=10\n",
    "theta=[Qprime, Gprime, kl, aomega,bomega,sigma]\n",
    "p=length(theta)\n",
    "\n",
    "function pfmcmc1(niters, tune, thin,theta)\n",
    "    thetamat=zeros(niters, p)\n",
    "xmat=zeros(niters,100)\n",
    "xtheta=zeros(100)\n",
    "for i in 1:niters\n",
    "  for j in 1:thin\n",
    "    thetaprop=theta.*exp(rand(Normal(0,tune),p))\n",
    "    priorprop=[pdf(Uniform(11,17),thetaprop[1]),pdf(Uniform(281,482),thetaprop[2]),pdf(Uniform(0,0.8),thetaprop[3]),\n",
    "                     pdf(Uniform(0.5,3),thetaprop[4]),pdf(Uniform(0.5,3),thetaprop[5]),pdf(Gamma(1,2),thetaprop[6])]\n",
    "    prior=[pdf(Uniform(11,17),theta[1]),pdf(Uniform(281,482),theta[2]),pdf(Uniform(0,0.8),theta[3]),\n",
    "                     pdf(Uniform(0.5,3),theta[4]),pdf(Uniform(0.5,3),theta[5]),pdf(Gamma(1,2),theta[6])]\n",
    "    pfprop=pf(200,logyt,thetaprop[1],thetaprop[2],thetaprop[3],thetaprop[4],thetaprop[5],thetaprop[6])\n",
    "    llprop=log(prod(pfprop[2][1:99]))\n",
    "    pftheta=pf(200,logyt,theta[1],theta[2],theta[3],theta[4],theta[5],theta[6])\n",
    "    xtheta=pftheta[1]\n",
    "    ll=log(prod(pftheta[2][1:99]))\n",
    "    xprop=pfprop[1]\n",
    "      if log(rand(Uniform()))< llprop+log(priorprop[1])+log(priorprop[2])+log(priorprop[3])+\n",
    "         log(priorprop[4])+log(priorprop[5])+log(priorprop[6])-(ll+log(prior[1])+log(prior[2])+log(prior[3])+\n",
    "                                                 log(prior[4])+log(prior[5])+log(prior[6]))\n",
    "        theta=thetaprop\n",
    "         ll=llprop\n",
    "         xtheta=xprop\n",
    "      else\n",
    "      theta=theta\n",
    "      ll=ll\n",
    "      xtheta=xtheta\n",
    "      end\n",
    "  end\n",
    "  thetamat[i,:]=theta\n",
    "  xmat[i,:]=xtheta\n",
    "end\n",
    "return thetamat,xmat\n",
    "end\n"
   ]
  },
  {
   "cell_type": "code",
   "execution_count": 55,
   "metadata": {},
   "outputs": [
    {
     "data": {
      "text/plain": [
       "229.315688476"
      ]
     },
     "execution_count": 55,
     "metadata": {},
     "output_type": "execute_result"
    }
   ],
   "source": [
    "@elapsed pfmcmcout=pfmcmc1(niters,tune, thin,theta)\n"
   ]
  },
  {
   "cell_type": "code",
   "execution_count": 56,
   "metadata": {},
   "outputs": [
    {
     "data": {
      "text/plain": [
       "1000×100 Array{Float64,2}:\n",
       " 0.595134  8.75157  10.8371   11.9774   …  20.8685  20.9053  20.8468  19.675 \n",
       " 0.595134  9.12724  11.1707   12.3695      21.8171  21.608   21.3616  20.3838\n",
       " 0.595134  8.81431  11.6498   12.7479      22.485   22.3948  22.5178  21.5557\n",
       " 0.595134  9.30045  11.7135   12.8595      22.227   22.0823  22.0913  20.9585\n",
       " 0.595134  8.59658  11.1744   12.7101      22.8374  22.6477  22.6563  21.8547\n",
       " 0.595134  9.2725   11.5947   12.7029   …  23.6256  23.277   23.2562  21.986 \n",
       " 0.595134  8.91027  11.2499   12.4756      23.1756  22.9246  22.8233  21.7296\n",
       " 0.595134  8.07562  10.4346   11.8297      22.3666  22.1386  22.2257  21.095 \n",
       " 0.595134  8.21411  10.7164   11.97        21.2847  21.1266  21.068   20.4018\n",
       " 0.595134  8.16378  10.1858   11.4388      22.3259  22.0446  22.1703  21.4937\n",
       " 0.595134  8.58676  10.8394   11.9957   …  21.5319  21.3291  21.3604  20.6792\n",
       " 0.595134  7.98167  10.1943   11.6635      21.7832  21.2565  21.1762  20.5468\n",
       " 0.595134  8.1808   10.3872   11.6287      21.1494  21.0634  21.2629  20.4762\n",
       " ⋮                                      ⋱                                    \n",
       " 0.595134  5.35079   6.78156   8.12634     14.7307  14.6795  14.5348  14.4783\n",
       " 0.595134  5.40382   6.91308   8.19985     15.7226  15.5938  15.254   15.5004\n",
       " 0.595134  5.21151   6.51146   7.71662  …  15.4729  15.4424  15.2856  15.1877\n",
       " 0.595134  5.69135   7.21656   8.7235      16.3365  16.3689  16.4254  16.2541\n",
       " 0.595134  6.33298   7.77609   9.29299     17.4887  17.4533  17.4352  17.3876\n",
       " 0.595134  6.30253   8.12118   9.53507     16.6454  16.6048  16.7174  16.5656\n",
       " 0.595134  5.68497   7.44551   8.84715     16.1862  16.0362  16.6517  16.3441\n",
       " 0.595134  5.7253    7.62405   9.01485  …  17.5921  17.8244  17.7652  17.6401\n",
       " 0.595134  6.06678   7.97978   9.49781     18.3261  18.2913  18.3872  18.2613\n",
       " 0.595134  5.97674   7.6837    9.10394     17.6291  17.4876  17.7808  17.8311\n",
       " 0.595134  6.13769   8.29695   9.80162     17.9916  17.8936  17.7245  17.7084\n",
       " 0.595134  5.87617   7.55916   9.28083     17.7262  17.5255  17.6634  17.6563"
      ]
     },
     "execution_count": 56,
     "metadata": {},
     "output_type": "execute_result"
    }
   ],
   "source": [
    "thetamat=pfmcmcout[1]\n",
    "xmat=pfmcmcout[2]"
   ]
  },
  {
   "cell_type": "code",
   "execution_count": 57,
   "metadata": {
    "collapsed": true
   },
   "outputs": [],
   "source": [
    "thetamatdat=DataFrame(thetamat)\n",
    "xmatdat=DataFrame(xmat)\n",
    "\n",
    "writetable(\"/Users/n_a_abdallah/Desktop/spatial/Project2/thetamcmc.csv\", thetamatdat)\n",
    "writetable(\"/Users/n_a_abdallah/Desktop/spatial/Project2/xmcmc.csv\", xmatdat)\n",
    "\n"
   ]
  },
  {
   "cell_type": "code",
   "execution_count": null,
   "metadata": {
    "collapsed": true
   },
   "outputs": [],
   "source": [
    "#two compartment model simulation\n",
    "n=100\n",
    "Qprime=13.8\n",
    "Gprime=351.54\n",
    "VF=1\n",
    "VN=1\n",
    "Sigma=diagm([1,1])\n",
    "kl=0.1\n",
    "beta=5\n",
    "Var=diagm([1,1])\n",
    "r=3\n",
    "srand(123)\n",
    "methods(MvNormal)\n",
    "wt2=rand(MvLogNormal(2,1),n)\n",
    "h=0.01\n",
    "A=zeros(2,2)\n",
    "A[1,1]=-(beta)/VN\n",
    "A[1,2]= (beta)/VN\n",
    "A[2,1]= beta/VF\n",
    "A[2,2]= -(beta+Qprime)/VF+kl\n",
    "g=zeros(1,2)\n",
    "g[1,1]=Gprime/VN\n",
    "c2zone=zeros(n,2)\n",
    "for i in 1:(n-1)\n",
    "  c2zone[1,:]=[0,0.5]\n",
    "  c2zone[i+1,:]=(h*A+diagm([1,1]))*(c2zone[i,:])+(g*h)'+h*wt2[:,i+1]\n",
    "end\n",
    "c2zone\n",
    "\n",
    "srand(123)\n",
    "vt2=rand(MvNormal(2,1),n)\n",
    "logyt2=log(c2zone)+(vt2)'"
   ]
  },
  {
   "cell_type": "code",
   "execution_count": 95,
   "metadata": {},
   "outputs": [
    {
     "name": "stderr",
     "output_type": "stream",
     "text": [
      "WARNING: Method definition pf2zone(Any, Any, Any, Any, Any, Any, Any, Any) in module Main at In[93]:3 overwritten at In[95]:3.\n"
     ]
    },
    {
     "data": {
      "text/plain": [
       "pf2zone (generic function with 1 method)"
      ]
     },
     "execution_count": 95,
     "metadata": {},
     "output_type": "execute_result"
    }
   ],
   "source": [
    "function pf2zone(nparticles,n,logyt, A,g,aomega,bomega,Sigma)\n",
    "  #initialize vectors\n",
    "  cestsir=zeros(n,2)\n",
    "  cpartiold=zeros(nparticles,2)\n",
    "  wparti=zeros(nparticles,1)\n",
    "  cpartinew=zeros(nparticles,2)\n",
    "  cpartires=zeros(nparticles,2)\n",
    "  wpartires=zeros(nparticles,2)\n",
    "  wpartin=zeros(nparticles,1)\n",
    "  wtotal=wtotal2=cpartiw=cestpf=0.\n",
    "  stdsir1=zeros(n,2)\n",
    "  stdsir2=zeros(n,2)\n",
    "  phat1=zeros(n,2)\n",
    "  nparti=nparticles\n",
    "  nparti1=1/nparti\n",
    "  mat1=zeros(100)\n",
    "  mat2=zeros(100)\n",
    "\n",
    "  #distribution initial time\n",
    "  cestsir[1,:]=exp(logyt2[1,:])\n",
    "  for i in 1:nparti\n",
    "    cpartiold[i,:]=exp(logyt2[1,:])+rand(Gamma(aomega,bomega),2)\n",
    "  end\n",
    "  #advance particles\n",
    "  for j in 1:(n-1)\n",
    "    for i in 1:nparti\n",
    "      #prediction\n",
    "      cpartinew[i,:]=(h*A+diagm([1,1]))*cpartiold[i,:]+(g*h)'+h*rand(Gamma(aomega,bomega),2)\n",
    "      #weights using likelihood\n",
    "      wparti[i,:]=exp(-((log(cpartinew[i,:])-logyt2[j+1,:])'*inv(Sigma)*(log(cpartinew[i,:])-logyt2[j+1,:]))/2)\n",
    "    end\n",
    "    wtotal=sum(wparti)\n",
    "    wpartin=wparti/wtotal\n",
    "    phat1[j]=wtotal/nparti\n",
    "    #resample\n",
    "    cresa=zeros(nparti)\n",
    "    uresa=zeros(nparti)\n",
    "    \n",
    "    #cumulative sum of weights\n",
    "    cresa[1]=wpartin[1]\n",
    "    for i in 2:nparti\n",
    "      cresa[i]=cresa[i-1]+wpartin[i]\n",
    "    end\n",
    "    iresa=1\n",
    "    uresa[1]=rand(Uniform(0,1))*nparti1\n",
    "    for k in 1:nparti\n",
    "      uresa[k]=uresa[1]+nparti1*(k-1)\n",
    "      while uresa[k]>cresa[iresa]\n",
    "        iresa=iresa+1\n",
    "        end\n",
    "      cpartires[k,:]=cpartinew[iresa,:]\n",
    "      wpartires[k,1]=nparti1\n",
    "    \n",
    "  end\n",
    "    cestsir[j+1,1]=mean(cpartires[:,1])\n",
    "    cestsir[j+1,2]=mean(cpartires[:,2])\n",
    "    stdsir1[j+1]=sqrt(var(cpartires[:,1]))\n",
    "    stdsir2[j+1]=sqrt(var(cpartires[:,2]))\n",
    "    cpartiold=cpartires\n",
    "    #end of resampling\n",
    "    #cpartiold<-cpartinew\n",
    "    mat1=(cestsir[:,1])\n",
    "    mat2=(cestsir[:,2])\n",
    "  end\n",
    "\n",
    "  return mat1, mat2, phat1, phat2\n",
    "  end\n"
   ]
  },
  {
   "cell_type": "code",
   "execution_count": 210,
   "metadata": {},
   "outputs": [
    {
     "data": {
      "text/plain": [
       "0.356951296"
      ]
     },
     "execution_count": 210,
     "metadata": {},
     "output_type": "execute_result"
    }
   ],
   "source": [
    "truepf2zone=pf2zone(200,100,logyt2, A,g,aomega,bomega,Sigma)\n",
    "truepf2zone[1]"
   ]
  },
  {
   "cell_type": "code",
   "execution_count": 220,
   "metadata": {},
   "outputs": [
    {
     "name": "stderr",
     "output_type": "stream",
     "text": [
      "WARNING: Method definition pfmcmc2(Any, Any, Any, Any) in module Main at In[190]:3 overwritten at In[220]:2.\n"
     ]
    },
    {
     "data": {
      "text/plain": [
       "pfmcmc2 (generic function with 1 method)"
      ]
     },
     "execution_count": 220,
     "metadata": {},
     "output_type": "execute_result"
    }
   ],
   "source": [
    "function pfmcmc2(niters, tune, thin,theta)\n",
    "for i in 1:niters\n",
    "  for j in 1:thin\n",
    "    thetaprop=theta.*exp(rand(Normal(0,tune),p))\n",
    "    priorprop=[pdf(Uniform(11,17),thetaprop[1]),pdf(Uniform(281,482),thetaprop[2]),pdf(Uniform(0,0.8),thetaprop[3]),\n",
    "                     pdf(Uniform(0.5,3),thetaprop[4]),pdf(Uniform(0.5,3),thetaprop[5]),pdf(Gamma(1,2),thetaprop[6][1,1]),\n",
    "            pdf(Uniform(0,10),thetaprop[7])]\n",
    "    prior=[pdf(Uniform(11,17),theta[1]),pdf(Uniform(281,482),theta[2]),pdf(Uniform(0,0.8),theta[3]),\n",
    "                     pdf(Uniform(0.5,3),theta[4]),pdf(Uniform(0.5,3),theta[5]),pdf(Gamma(1,2),theta[6][1,1]),\n",
    "            pdf(Uniform(0,10),theta[7])]\n",
    "    A[1,1]=-(theta[7])/VN\n",
    "    A[1,2]= (theta[7])/VN\n",
    "    A[2,1]= theta[7]/VF\n",
    "    A[2,2]= -(theta[7]+theta[1])/VF+theta[3]\n",
    "    g[1,1]=theta[2]/VN\n",
    "    pftheta=pf2zone(200,100,logyt2,A,g,theta[4],theta[5],theta[6])\n",
    "    xtheta1=pftheta[1]\n",
    "    xtheta2=pftheta[2]\n",
    "    ll=log(prod(pftheta[3][1:99]))\n",
    "    Aprop[1,1]=-(thetaprop[7])/VN\n",
    "    Aprop[1,2]= (thetaprop[7])/VN\n",
    "    Aprop[2,1]= thetaprop[7]/VF\n",
    "    Aprop[2,2]= -(thetaprop[7]+thetaprop[1])/VF+thetaprop[3]\n",
    "    gprop[1,1]=thetaprop[2]/VN\n",
    "    pfthetaprop=pf2zone(200,100,logyt2,Aprop,gprop,thetaprop[4],thetaprop[5],thetaprop[6])\n",
    "    xprop1=pfthetaprop[1]\n",
    "    xprop2=pfthetaprop[2]\n",
    "    llprop=log(prod(pfthetaprop[3][1:99]))\n",
    "      if log(rand(Uniform()))< llprop+log(priorprop[1])+log(priorprop[2])+log(priorprop[3])+\n",
    "         log(priorprop[4])+log(priorprop[5])+log(priorprop[6])+log(priorprop[7])-(ll+log(prior[1])+log(prior[2])+log(prior[3])+\n",
    "                                                 log(prior[4])+log(prior[5])+log(prior[6])+log(prior[7]))\n",
    "        theta=thetaprop\n",
    "         ll=llprop\n",
    "         xtheta1=xprop1\n",
    "         xtheta2=xprop2\n",
    "      else\n",
    "          theta=theta\n",
    "          ll=ll\n",
    "          xtheta1=xtheta1\n",
    "      xtheta2=xtheta2          \n",
    "      end\n",
    "  end\n",
    "  thetamat[i,:]=theta\n",
    "  xmat1[i,:]=xtheta1\n",
    "  xmat2[i,:]=xtheta2\n",
    "end\n",
    "return thetamat,xmat1, xmat2\n",
    "end\n"
   ]
  },
  {
   "cell_type": "code",
   "execution_count": 221,
   "metadata": {},
   "outputs": [
    {
     "data": {
      "text/plain": [
       "(\n",
       "[13.3541 342.63 … 0.980302 5.13327; 13.9747 346.769 … 1.00587 4.79472; … ; 13.6578 433.395 … 19.689 6.56459; 13.8881 423.529 … 20.7916 6.31523],\n",
       "\n",
       "[0.0 4.09324 … 95.1632 95.3398; 0.0 4.09324 … 95.1632 95.3398; … ; 0.0 4.09324 … 95.1632 95.3398; 0.0 4.09324 … 95.1632 95.3398],\n",
       "\n",
       "[3.87689 4.07911 … 26.8296 26.8794; 3.87689 4.07911 … 26.8296 26.8794; … ; 3.87689 4.07911 … 26.8296 26.8794; 3.87689 4.07911 … 26.8296 26.8794])"
      ]
     },
     "execution_count": 221,
     "metadata": {},
     "output_type": "execute_result"
    }
   ],
   "source": [
    " niters=1000\n",
    "tune=0.01\n",
    "thin=10\n",
    "theta=[Qprime, Gprime, kl, aomega,bomega,Sigma[1,1], beta]\n",
    "p=length(theta)\n",
    "thetamat=zeros(niters, p)\n",
    "xmat1=zeros(niters,100)\n",
    "xmat2=zeros(niters,100)\n",
    "A=zeros(2,2)\n",
    "Aprop=zeros(2,2)\n",
    "g=zeros(1,2)\n",
    "gprop=zeros(1,2)\n",
    "\n",
    "\n",
    "pfmcmcout2=pfmcmc2(niters,tune, thin,theta)\n",
    "\n",
    "   "
   ]
  },
  {
   "cell_type": "code",
   "execution_count": 203,
   "metadata": {
    "collapsed": true
   },
   "outputs": [],
   "source": [
    "for i in 1:niters\n",
    "  for j in 1:thin\n",
    "    thetaprop=theta.*exp(rand(Normal(0,tune),p))\n",
    "    priorprop=[pdf(Uniform(11,17),thetaprop[1]),pdf(Uniform(281,482),thetaprop[2]),pdf(Uniform(0,0.8),thetaprop[3]),\n",
    "                     pdf(Uniform(0.5,3),thetaprop[4]),pdf(Uniform(0.5,3),thetaprop[5]),pdf(Gamma(1,2),thetaprop[6][1,1]),\n",
    "            pdf(Uniform(0,10),thetaprop[7])]\n",
    "    prior=[pdf(Uniform(11,17),theta[1]),pdf(Uniform(281,482),theta[2]),pdf(Uniform(0,0.8),theta[3]),\n",
    "                     pdf(Uniform(0.5,3),theta[4]),pdf(Uniform(0.5,3),theta[5]),pdf(Gamma(1,2),theta[6][1,1]),\n",
    "            pdf(Uniform(0,10),theta[7])]\n",
    "    A[1,1]=-(theta[7])/VN\n",
    "    A[1,2]= (theta[7])/VN\n",
    "    A[2,1]= theta[7]/VF\n",
    "    A[2,2]= -(theta[7]+theta[1])/VF+theta[3]\n",
    "    g[1,1]=theta[2]/VN\n",
    "    pftheta=pf2zone(200,100,logyt2,A,g,theta[4],theta[5],theta[6])\n",
    "    xtheta1=pftheta[1]\n",
    "    xtheta2=pftheta[2]\n",
    "    ll=log(prod(pftheta[3][1:99]))\n",
    "    Aprop[1,1]=-(thetaprop[7])/VN\n",
    "    Aprop[1,2]= (thetaprop[7])/VN\n",
    "    Aprop[2,1]= thetaprop[7]/VF\n",
    "    Aprop[2,2]= -(thetaprop[7]+thetaprop[1])/VF+thetaprop[3]\n",
    "    gprop[1,1]=thetaprop[2]/VN\n",
    "    pfthetaprop=pf2zone(200,100,logyt2,Aprop,gprop,thetaprop[4],thetaprop[5],thetaprop[6])\n",
    "    xprop1=pfthetaprop[1]\n",
    "    xprop2=pfthetaprop[2]\n",
    "    llprop=log(prod(pfthetaprop[3][1:99]))\n",
    "      if log(rand(Uniform()))< llprop+log(priorprop[1])+log(priorprop[2])+log(priorprop[3])+\n",
    "         log(priorprop[4])+log(priorprop[5])+log(priorprop[6])+log(priorprop[7])-(ll+log(prior[1])+log(prior[2])+log(prior[3])+\n",
    "                                                 log(prior[4])+log(prior[5])+log(prior[6])+log(prior[7]))\n",
    "        theta=thetaprop\n",
    "         ll=llprop\n",
    "         xtheta1=xprop1\n",
    "         xtheta2=xprop2\n",
    "      else\n",
    "          theta=theta\n",
    "          ll=ll\n",
    "          xtheta1=xtheta1\n",
    "      xtheta2=xtheta2          \n",
    "      end\n",
    "  end\n",
    "  thetamat[i,:]=theta\n",
    "  xmat1[i,:]=xtheta1\n",
    "  xmat2[i,:]=xtheta2\n",
    "end"
   ]
  },
  {
   "cell_type": "code",
   "execution_count": 206,
   "metadata": {},
   "outputs": [
    {
     "name": "stderr",
     "output_type": "stream",
     "text": [
      "\u001b[1m\u001b[34mINFO: Nothing to be done\n",
      "\u001b[0m\u001b[1m\u001b[34mINFO: METADATA is out-of-date — you may not have the latest version of Requests\n",
      "\u001b[0m\u001b[1m\u001b[34mINFO: Use `Pkg.update()` to get the latest versions of your packages\n",
      "\u001b[0m\u001b[1m\u001b[34mINFO: Nothing to be done\n",
      "\u001b[0m\u001b[1m\u001b[34mINFO: METADATA is out-of-date — you may not have the latest version of DataFrames\n",
      "\u001b[0m\u001b[1m\u001b[34mINFO: Use `Pkg.update()` to get the latest versions of your packages\n",
      "\u001b[0mWARNING: Method definition describe(AbstractArray) in module StatsBase at /Users/n_a_abdallah/.julia/v0.5/StatsBase/src/scalarstats.jl:573 overwritten in module DataFrames at /Users/n_a_abdallah/.julia/v0.5/DataFrames/src/abstractdataframe/abstractdataframe.jl:407.\n"
     ]
    }
   ],
   "source": [
    "thetamatdat2=DataFrame(thetamat)\n",
    "xmatdat1=DataFrame(xmat1)\n",
    "xmatdat2=DataFrame(xmat2)\n",
    "writetable(\"/Users/n_a_abdallah/Desktop/spatial/Project2/thetamcmc2.csv\", thetamatdat2)\n",
    "writetable(\"/Users/n_a_abdallah/Desktop/spatial/Project2/xmcmc21.csv\", xmatdat1)\n",
    "writetable(\"/Users/n_a_abdallah/Desktop/spatial/Project2/xmcmc22.csv\", xmatdat2)\n",
    "\n"
   ]
  },
  {
   "cell_type": "code",
   "execution_count": null,
   "metadata": {
    "collapsed": true
   },
   "outputs": [],
   "source": []
  }
 ],
 "metadata": {
  "anaconda-cloud": {},
  "kernelspec": {
   "display_name": "Julia 0.5.2",
   "language": "julia",
   "name": "julia-0.5"
  },
  "language_info": {
   "file_extension": ".jl",
   "mimetype": "application/julia",
   "name": "julia",
   "version": "0.5.2"
  }
 },
 "nbformat": 4,
 "nbformat_minor": 2
}
